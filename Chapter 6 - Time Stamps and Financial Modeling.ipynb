{
 "cells": [
  {
   "cell_type": "code",
   "execution_count": 70,
   "metadata": {
    "collapsed": true
   },
   "outputs": [],
   "source": [
    "% matplotlib inline\n",
    "\n",
    "import numpy as np\n",
    "import pandas as pd\n",
    "import pyprind\n",
    "\n",
    "from collections import Counter\n",
    "from math import log\n",
    "from matplotlib import pyplot as plt\n",
    "from os.path import exists\n",
    "from sklearn.linear_model import LinearRegression"
   ]
  },
  {
   "cell_type": "markdown",
   "metadata": {},
   "source": [
    "# Exercise: Financial Data\n",
    "\n",
    "1. Get the Data: Go to Yahoo! Finance and download daily data from a stock that has at least eight years of data, making sure it goes from earlier to later. If you don’t know how to do it, Google it.\n",
    "2. Create the time series of daily log returns of the stock price.\n",
    "3. Just for comparison, do the same for volume data (i.e., create the time series of daily log changes in volume).\n",
    "4. Next, try to set up a linear regression model that uses the past two returns to predict the next return. Run it and see if you can make any money with it. Try it for both stock returns and volumes. Bonus points if you: do a causal model, normalize for volatility (standard deviation), or put in an exponential decay for old data.\n",
    "5. Draw the cumulative P&L (forecast × realized) graphs and see if they drift up.\n",
    "\n",
    "## Let's go!\n",
    "\n",
    "* Get the Data: Go to Yahoo! Finance and download daily data from a stock that has at least eight years of data, making sure it goes from earlier to later. If you don’t know how to do it, Google it."
   ]
  },
  {
   "cell_type": "code",
   "execution_count": 23,
   "metadata": {
    "collapsed": false
   },
   "outputs": [],
   "source": [
    "data_path_decreasing = 'dds_datasets/dds_ch6_stock_value-orange-decreasing.csv'\n",
    "data_path = 'dds_datasets/dds_ch6_stock_value-orange.csv'\n",
    "\n",
    "def reformat_data(data_path_decreasing, data_path):\n",
    "    '''Write data in increasing order.'''\n",
    "    with open(data_path_decreasing, 'r') as fp:\n",
    "        lines = []\n",
    "        for index, line in enumerate(fp):\n",
    "            if index == 0:\n",
    "                header = line\n",
    "            else:\n",
    "                lines.append(line)\n",
    "    lines.reverse()\n",
    "    with open(data_path, 'w') as fw:\n",
    "        fw.write(header)\n",
    "        for line in lines:\n",
    "            fw.write(line)\n",
    "\n",
    "if not exists(data_path):\n",
    "    reformat_data(data_path_decreasing, data_path)\n",
    "    \n"
   ]
  },
  {
   "cell_type": "code",
   "execution_count": 24,
   "metadata": {
    "collapsed": false
   },
   "outputs": [],
   "source": [
    "data_df = pd.read_csv(data_path)"
   ]
  },
  {
   "cell_type": "code",
   "execution_count": 25,
   "metadata": {
    "collapsed": false
   },
   "outputs": [
    {
     "data": {
      "text/html": [
       "<div>\n",
       "<table border=\"1\" class=\"dataframe\">\n",
       "  <thead>\n",
       "    <tr style=\"text-align: right;\">\n",
       "      <th></th>\n",
       "      <th>Date</th>\n",
       "      <th>Open</th>\n",
       "      <th>High</th>\n",
       "      <th>Low</th>\n",
       "      <th>Close</th>\n",
       "      <th>Volume</th>\n",
       "      <th>Adj Close</th>\n",
       "    </tr>\n",
       "  </thead>\n",
       "  <tbody>\n",
       "    <tr>\n",
       "      <th>0</th>\n",
       "      <td>2000-01-03</td>\n",
       "      <td>133.2</td>\n",
       "      <td>136.2</td>\n",
       "      <td>130.5</td>\n",
       "      <td>131.0</td>\n",
       "      <td>1551400</td>\n",
       "      <td>54.636</td>\n",
       "    </tr>\n",
       "    <tr>\n",
       "      <th>1</th>\n",
       "      <td>2000-01-04</td>\n",
       "      <td>130.4</td>\n",
       "      <td>130.5</td>\n",
       "      <td>121.0</td>\n",
       "      <td>124.0</td>\n",
       "      <td>1988700</td>\n",
       "      <td>51.716</td>\n",
       "    </tr>\n",
       "    <tr>\n",
       "      <th>2</th>\n",
       "      <td>2000-01-05</td>\n",
       "      <td>116.0</td>\n",
       "      <td>121.8</td>\n",
       "      <td>116.0</td>\n",
       "      <td>118.0</td>\n",
       "      <td>2677400</td>\n",
       "      <td>49.214</td>\n",
       "    </tr>\n",
       "    <tr>\n",
       "      <th>3</th>\n",
       "      <td>2000-01-06</td>\n",
       "      <td>118.0</td>\n",
       "      <td>120.6</td>\n",
       "      <td>111.1</td>\n",
       "      <td>116.0</td>\n",
       "      <td>2847200</td>\n",
       "      <td>48.380</td>\n",
       "    </tr>\n",
       "    <tr>\n",
       "      <th>4</th>\n",
       "      <td>2000-01-07</td>\n",
       "      <td>113.1</td>\n",
       "      <td>120.6</td>\n",
       "      <td>112.5</td>\n",
       "      <td>119.5</td>\n",
       "      <td>1593200</td>\n",
       "      <td>49.840</td>\n",
       "    </tr>\n",
       "  </tbody>\n",
       "</table>\n",
       "</div>"
      ],
      "text/plain": [
       "         Date   Open   High    Low  Close   Volume  Adj Close\n",
       "0  2000-01-03  133.2  136.2  130.5  131.0  1551400     54.636\n",
       "1  2000-01-04  130.4  130.5  121.0  124.0  1988700     51.716\n",
       "2  2000-01-05  116.0  121.8  116.0  118.0  2677400     49.214\n",
       "3  2000-01-06  118.0  120.6  111.1  116.0  2847200     48.380\n",
       "4  2000-01-07  113.1  120.6  112.5  119.5  1593200     49.840"
      ]
     },
     "execution_count": 25,
     "metadata": {},
     "output_type": "execute_result"
    }
   ],
   "source": [
    "data_df.head(n=5)"
   ]
  },
  {
   "cell_type": "code",
   "execution_count": 26,
   "metadata": {
    "collapsed": false
   },
   "outputs": [
    {
     "data": {
      "text/html": [
       "<div>\n",
       "<table border=\"1\" class=\"dataframe\">\n",
       "  <thead>\n",
       "    <tr style=\"text-align: right;\">\n",
       "      <th></th>\n",
       "      <th>Open</th>\n",
       "      <th>High</th>\n",
       "      <th>Low</th>\n",
       "      <th>Close</th>\n",
       "      <th>Volume</th>\n",
       "      <th>Adj Close</th>\n",
       "    </tr>\n",
       "  </thead>\n",
       "  <tbody>\n",
       "    <tr>\n",
       "      <th>count</th>\n",
       "      <td>4336.000000</td>\n",
       "      <td>4336.000000</td>\n",
       "      <td>4336.000000</td>\n",
       "      <td>4336.000000</td>\n",
       "      <td>4.336000e+03</td>\n",
       "      <td>4336.000000</td>\n",
       "    </tr>\n",
       "    <tr>\n",
       "      <th>mean</th>\n",
       "      <td>26.906441</td>\n",
       "      <td>27.374014</td>\n",
       "      <td>26.427643</td>\n",
       "      <td>26.881904</td>\n",
       "      <td>9.116170e+06</td>\n",
       "      <td>13.808862</td>\n",
       "    </tr>\n",
       "    <tr>\n",
       "      <th>std</th>\n",
       "      <td>31.697064</td>\n",
       "      <td>32.535892</td>\n",
       "      <td>30.901294</td>\n",
       "      <td>31.673224</td>\n",
       "      <td>5.886672e+06</td>\n",
       "      <td>12.422609</td>\n",
       "    </tr>\n",
       "    <tr>\n",
       "      <th>min</th>\n",
       "      <td>7.120000</td>\n",
       "      <td>7.147000</td>\n",
       "      <td>6.750000</td>\n",
       "      <td>6.940000</td>\n",
       "      <td>0.000000e+00</td>\n",
       "      <td>3.041000</td>\n",
       "    </tr>\n",
       "    <tr>\n",
       "      <th>25%</th>\n",
       "      <td>14.220000</td>\n",
       "      <td>14.373750</td>\n",
       "      <td>14.032500</td>\n",
       "      <td>14.197500</td>\n",
       "      <td>5.790500e+06</td>\n",
       "      <td>8.920250</td>\n",
       "    </tr>\n",
       "    <tr>\n",
       "      <th>50%</th>\n",
       "      <td>17.852500</td>\n",
       "      <td>18.080000</td>\n",
       "      <td>17.640000</td>\n",
       "      <td>17.815000</td>\n",
       "      <td>8.175000e+06</td>\n",
       "      <td>10.265500</td>\n",
       "    </tr>\n",
       "    <tr>\n",
       "      <th>75%</th>\n",
       "      <td>22.480000</td>\n",
       "      <td>22.725000</td>\n",
       "      <td>22.200000</td>\n",
       "      <td>22.452500</td>\n",
       "      <td>1.120032e+07</td>\n",
       "      <td>12.522250</td>\n",
       "    </tr>\n",
       "    <tr>\n",
       "      <th>max</th>\n",
       "      <td>211.000000</td>\n",
       "      <td>219.000000</td>\n",
       "      <td>205.000000</td>\n",
       "      <td>219.000000</td>\n",
       "      <td>8.841360e+07</td>\n",
       "      <td>91.338000</td>\n",
       "    </tr>\n",
       "  </tbody>\n",
       "</table>\n",
       "</div>"
      ],
      "text/plain": [
       "              Open         High          Low        Close        Volume  \\\n",
       "count  4336.000000  4336.000000  4336.000000  4336.000000  4.336000e+03   \n",
       "mean     26.906441    27.374014    26.427643    26.881904  9.116170e+06   \n",
       "std      31.697064    32.535892    30.901294    31.673224  5.886672e+06   \n",
       "min       7.120000     7.147000     6.750000     6.940000  0.000000e+00   \n",
       "25%      14.220000    14.373750    14.032500    14.197500  5.790500e+06   \n",
       "50%      17.852500    18.080000    17.640000    17.815000  8.175000e+06   \n",
       "75%      22.480000    22.725000    22.200000    22.452500  1.120032e+07   \n",
       "max     211.000000   219.000000   205.000000   219.000000  8.841360e+07   \n",
       "\n",
       "         Adj Close  \n",
       "count  4336.000000  \n",
       "mean     13.808862  \n",
       "std      12.422609  \n",
       "min       3.041000  \n",
       "25%       8.920250  \n",
       "50%      10.265500  \n",
       "75%      12.522250  \n",
       "max      91.338000  "
      ]
     },
     "execution_count": 26,
     "metadata": {},
     "output_type": "execute_result"
    }
   ],
   "source": [
    "data_df.describe()"
   ]
  },
  {
   "cell_type": "code",
   "execution_count": 27,
   "metadata": {
    "collapsed": false
   },
   "outputs": [
    {
     "data": {
      "text/plain": [
       "(4336, 7)"
      ]
     },
     "execution_count": 27,
     "metadata": {},
     "output_type": "execute_result"
    }
   ],
   "source": [
    "data_df.shape"
   ]
  },
  {
   "cell_type": "code",
   "execution_count": 28,
   "metadata": {
    "collapsed": false
   },
   "outputs": [],
   "source": [
    "stock_close = data_df[['Date','Close']]\n",
    "adj_close = data_df[['Date','Adj Close']]\n",
    "volume_close = data_df[['Date','Volume']]"
   ]
  },
  {
   "cell_type": "markdown",
   "metadata": {},
   "source": [
    "* Create the time series of daily log returns of the stock price.\n",
    "\n",
    "> We typically don’t consider percent returns, but rather log returns: if Ft denotes a close on day t, then the log return that day is defined as log(Ft/F\\_(t−1)) , whereas the percent return would be computed as 100((Ft/F\\_(t−1)) − 1)."
   ]
  },
  {
   "cell_type": "code",
   "execution_count": 29,
   "metadata": {
    "collapsed": true
   },
   "outputs": [],
   "source": [
    "def log_return(ft, ft_1):\n",
    "    if float(ft_1) == 0.0 or float(ft) == 0:\n",
    "        return 'NaN'\n",
    "    else:\n",
    "        return log(ft / ft_1)\n",
    "\n"
   ]
  },
  {
   "cell_type": "code",
   "execution_count": 30,
   "metadata": {
    "collapsed": false
   },
   "outputs": [
    {
     "name": "stderr",
     "output_type": "stream",
     "text": [
      "/usr/local/lib/python3.5/site-packages/ipykernel/__main__.py:1: SettingWithCopyWarning: \n",
      "A value is trying to be set on a copy of a slice from a DataFrame.\n",
      "Try using .loc[row_indexer,col_indexer] = value instead\n",
      "\n",
      "See the caveats in the documentation: http://pandas.pydata.org/pandas-docs/stable/indexing.html#indexing-view-versus-copy\n",
      "  if __name__ == '__main__':\n"
     ]
    },
    {
     "data": {
      "text/html": [
       "<div>\n",
       "<table border=\"1\" class=\"dataframe\">\n",
       "  <thead>\n",
       "    <tr style=\"text-align: right;\">\n",
       "      <th></th>\n",
       "      <th>Date</th>\n",
       "      <th>Close</th>\n",
       "      <th>Log Return</th>\n",
       "    </tr>\n",
       "  </thead>\n",
       "  <tbody>\n",
       "    <tr>\n",
       "      <th>0</th>\n",
       "      <td>2000-01-03</td>\n",
       "      <td>131.0</td>\n",
       "      <td>131.0</td>\n",
       "    </tr>\n",
       "    <tr>\n",
       "      <th>1</th>\n",
       "      <td>2000-01-04</td>\n",
       "      <td>124.0</td>\n",
       "      <td>124.0</td>\n",
       "    </tr>\n",
       "    <tr>\n",
       "      <th>2</th>\n",
       "      <td>2000-01-05</td>\n",
       "      <td>118.0</td>\n",
       "      <td>118.0</td>\n",
       "    </tr>\n",
       "    <tr>\n",
       "      <th>3</th>\n",
       "      <td>2000-01-06</td>\n",
       "      <td>116.0</td>\n",
       "      <td>116.0</td>\n",
       "    </tr>\n",
       "    <tr>\n",
       "      <th>4</th>\n",
       "      <td>2000-01-07</td>\n",
       "      <td>119.5</td>\n",
       "      <td>119.5</td>\n",
       "    </tr>\n",
       "  </tbody>\n",
       "</table>\n",
       "</div>"
      ],
      "text/plain": [
       "         Date  Close  Log Return\n",
       "0  2000-01-03  131.0       131.0\n",
       "1  2000-01-04  124.0       124.0\n",
       "2  2000-01-05  118.0       118.0\n",
       "3  2000-01-06  116.0       116.0\n",
       "4  2000-01-07  119.5       119.5"
      ]
     },
     "execution_count": 30,
     "metadata": {},
     "output_type": "execute_result"
    }
   ],
   "source": [
    "stock_close['Log Return'] = stock_close['Close']\n",
    "stock_close.head()"
   ]
  },
  {
   "cell_type": "code",
   "execution_count": 31,
   "metadata": {
    "collapsed": false
   },
   "outputs": [],
   "source": [
    "def create_log_return(df, column_name):\n",
    "    for index, row in df.iterrows(): \n",
    "        if index > 0:\n",
    "            if index % 1000 == 0:\n",
    "                print(index, '...')\n",
    "            try:\n",
    "                log_return_value = log_return(previous_row[column_name], row[column_name])\n",
    "                df.set_value(index, 'Log Return', log_return_value)\n",
    "            except ZeroDivisionError:\n",
    "                pass\n",
    "        previous_row = row\n",
    "    df.drop(0, inplace=True)  # remove first day which has no log return value"
   ]
  },
  {
   "cell_type": "code",
   "execution_count": 32,
   "metadata": {
    "collapsed": false
   },
   "outputs": [
    {
     "name": "stdout",
     "output_type": "stream",
     "text": [
      "1000 ...\n",
      "2000 ...\n",
      "3000 ...\n",
      "4000 ...\n"
     ]
    },
    {
     "name": "stderr",
     "output_type": "stream",
     "text": [
      "/usr/local/lib/python3.5/site-packages/ipykernel/__main__.py:12: SettingWithCopyWarning: \n",
      "A value is trying to be set on a copy of a slice from a DataFrame\n",
      "\n",
      "See the caveats in the documentation: http://pandas.pydata.org/pandas-docs/stable/indexing.html#indexing-view-versus-copy\n",
      "/usr/local/lib/python3.5/site-packages/pandas/core/indexing.py:288: SettingWithCopyWarning: \n",
      "A value is trying to be set on a copy of a slice from a DataFrame.\n",
      "Try using .loc[row_indexer,col_indexer] = value instead\n",
      "\n",
      "See the caveats in the documentation: http://pandas.pydata.org/pandas-docs/stable/indexing.html#indexing-view-versus-copy\n",
      "  self.obj[key] = _infer_fill_value(value)\n",
      "/usr/local/lib/python3.5/site-packages/pandas/core/indexing.py:465: SettingWithCopyWarning: \n",
      "A value is trying to be set on a copy of a slice from a DataFrame.\n",
      "Try using .loc[row_indexer,col_indexer] = value instead\n",
      "\n",
      "See the caveats in the documentation: http://pandas.pydata.org/pandas-docs/stable/indexing.html#indexing-view-versus-copy\n",
      "  self.obj[item] = s\n"
     ]
    },
    {
     "name": "stdout",
     "output_type": "stream",
     "text": [
      "1000 ...\n",
      "2000 ...\n",
      "3000 ...\n",
      "4000 ...\n"
     ]
    },
    {
     "data": {
      "text/html": [
       "<div>\n",
       "<table border=\"1\" class=\"dataframe\">\n",
       "  <thead>\n",
       "    <tr style=\"text-align: right;\">\n",
       "      <th></th>\n",
       "      <th>Date</th>\n",
       "      <th>Close</th>\n",
       "      <th>Log Return</th>\n",
       "    </tr>\n",
       "  </thead>\n",
       "  <tbody>\n",
       "    <tr>\n",
       "      <th>1</th>\n",
       "      <td>2000-01-04</td>\n",
       "      <td>124.0</td>\n",
       "      <td>0.054916</td>\n",
       "    </tr>\n",
       "    <tr>\n",
       "      <th>2</th>\n",
       "      <td>2000-01-05</td>\n",
       "      <td>118.0</td>\n",
       "      <td>0.049597</td>\n",
       "    </tr>\n",
       "    <tr>\n",
       "      <th>3</th>\n",
       "      <td>2000-01-06</td>\n",
       "      <td>116.0</td>\n",
       "      <td>0.017094</td>\n",
       "    </tr>\n",
       "    <tr>\n",
       "      <th>4</th>\n",
       "      <td>2000-01-07</td>\n",
       "      <td>119.5</td>\n",
       "      <td>-0.029726</td>\n",
       "    </tr>\n",
       "    <tr>\n",
       "      <th>5</th>\n",
       "      <td>2000-01-10</td>\n",
       "      <td>121.7</td>\n",
       "      <td>-0.018243</td>\n",
       "    </tr>\n",
       "  </tbody>\n",
       "</table>\n",
       "</div>"
      ],
      "text/plain": [
       "         Date  Close  Log Return\n",
       "1  2000-01-04  124.0    0.054916\n",
       "2  2000-01-05  118.0    0.049597\n",
       "3  2000-01-06  116.0    0.017094\n",
       "4  2000-01-07  119.5   -0.029726\n",
       "5  2000-01-10  121.7   -0.018243"
      ]
     },
     "execution_count": 32,
     "metadata": {},
     "output_type": "execute_result"
    }
   ],
   "source": [
    "create_log_return(stock_close, 'Close')\n",
    "create_log_return(adj_close, 'Adj Close')\n",
    "stock_close.head()"
   ]
  },
  {
   "cell_type": "code",
   "execution_count": 33,
   "metadata": {
    "collapsed": false
   },
   "outputs": [
    {
     "data": {
      "text/plain": [
       "<matplotlib.text.Text at 0x107fe9940>"
      ]
     },
     "execution_count": 33,
     "metadata": {},
     "output_type": "execute_result"
    },
    {
     "data": {
      "image/png": "[encoded data removed]",
      "text/plain": [
       "<matplotlib.figure.Figure at 0x107edb198>"
      ]
     },
     "metadata": {},
     "output_type": "display_data"
    }
   ],
   "source": [
    "plt.plot(range(len(stock_close['Log Return'])), stock_close['Log Return'], color='blue')\n",
    "plt.title('Stock close values (log_return)')"
   ]
  },
  {
   "cell_type": "markdown",
   "metadata": {
    "collapsed": true
   },
   "source": [
    "* Just for comparison, do the same for volume data (i.e., create the time series of daily log changes in volume)."
   ]
  },
  {
   "cell_type": "code",
   "execution_count": 34,
   "metadata": {
    "collapsed": false
   },
   "outputs": [
    {
     "name": "stderr",
     "output_type": "stream",
     "text": [
      "/usr/local/lib/python3.5/site-packages/pandas/core/indexing.py:288: SettingWithCopyWarning: \n",
      "A value is trying to be set on a copy of a slice from a DataFrame.\n",
      "Try using .loc[row_indexer,col_indexer] = value instead\n",
      "\n",
      "See the caveats in the documentation: http://pandas.pydata.org/pandas-docs/stable/indexing.html#indexing-view-versus-copy\n",
      "  self.obj[key] = _infer_fill_value(value)\n",
      "/usr/local/lib/python3.5/site-packages/pandas/core/indexing.py:465: SettingWithCopyWarning: \n",
      "A value is trying to be set on a copy of a slice from a DataFrame.\n",
      "Try using .loc[row_indexer,col_indexer] = value instead\n",
      "\n",
      "See the caveats in the documentation: http://pandas.pydata.org/pandas-docs/stable/indexing.html#indexing-view-versus-copy\n",
      "  self.obj[item] = s\n"
     ]
    },
    {
     "name": "stdout",
     "output_type": "stream",
     "text": [
      "1000 ...\n",
      "2000 ...\n",
      "3000 ...\n",
      "4000 ...\n"
     ]
    },
    {
     "name": "stderr",
     "output_type": "stream",
     "text": [
      "/usr/local/lib/python3.5/site-packages/ipykernel/__main__.py:12: SettingWithCopyWarning: \n",
      "A value is trying to be set on a copy of a slice from a DataFrame\n",
      "\n",
      "See the caveats in the documentation: http://pandas.pydata.org/pandas-docs/stable/indexing.html#indexing-view-versus-copy\n"
     ]
    }
   ],
   "source": [
    "\n",
    "volume_close = data_df[['Date','Volume']]\n",
    "create_log_return(volume_close, 'Volume')"
   ]
  },
  {
   "cell_type": "code",
   "execution_count": 35,
   "metadata": {
    "collapsed": false
   },
   "outputs": [
    {
     "data": {
      "text/html": [
       "<div>\n",
       "<table border=\"1\" class=\"dataframe\">\n",
       "  <thead>\n",
       "    <tr style=\"text-align: right;\">\n",
       "      <th></th>\n",
       "      <th>Date</th>\n",
       "      <th>Volume</th>\n",
       "      <th>Log Return</th>\n",
       "    </tr>\n",
       "  </thead>\n",
       "  <tbody>\n",
       "    <tr>\n",
       "      <th>1</th>\n",
       "      <td>2000-01-04</td>\n",
       "      <td>1988700</td>\n",
       "      <td>-0.248323</td>\n",
       "    </tr>\n",
       "    <tr>\n",
       "      <th>2</th>\n",
       "      <td>2000-01-05</td>\n",
       "      <td>2677400</td>\n",
       "      <td>-0.297365</td>\n",
       "    </tr>\n",
       "    <tr>\n",
       "      <th>3</th>\n",
       "      <td>2000-01-06</td>\n",
       "      <td>2847200</td>\n",
       "      <td>-0.061490</td>\n",
       "    </tr>\n",
       "    <tr>\n",
       "      <th>4</th>\n",
       "      <td>2000-01-07</td>\n",
       "      <td>1593200</td>\n",
       "      <td>0.580591</td>\n",
       "    </tr>\n",
       "    <tr>\n",
       "      <th>5</th>\n",
       "      <td>2000-01-10</td>\n",
       "      <td>1358000</td>\n",
       "      <td>0.159732</td>\n",
       "    </tr>\n",
       "  </tbody>\n",
       "</table>\n",
       "</div>"
      ],
      "text/plain": [
       "         Date   Volume  Log Return\n",
       "1  2000-01-04  1988700   -0.248323\n",
       "2  2000-01-05  2677400   -0.297365\n",
       "3  2000-01-06  2847200   -0.061490\n",
       "4  2000-01-07  1593200    0.580591\n",
       "5  2000-01-10  1358000    0.159732"
      ]
     },
     "execution_count": 35,
     "metadata": {},
     "output_type": "execute_result"
    }
   ],
   "source": [
    "volume_close.head()"
   ]
  },
  {
   "cell_type": "code",
   "execution_count": 36,
   "metadata": {
    "collapsed": true
   },
   "outputs": [],
   "source": [
    "volume_log = volume_close['Log Return']\n",
    "stock_log = stock_close['Log Return']\n",
    "adj_log = adj_close['Log Return']"
   ]
  },
  {
   "cell_type": "markdown",
   "metadata": {},
   "source": [
    "* Next, try to set up a linear regression model that uses the past two returns to predict the next return. Run it and see if you can make any money with it. Try it for both stock returns and volumes. \n",
    "\n",
    "Bonus points if you: do a causal model, normalize for volatility (standard deviation), or put in an exponential decay for old data."
   ]
  },
  {
   "cell_type": "code",
   "execution_count": 37,
   "metadata": {
    "collapsed": false
   },
   "outputs": [
    {
     "data": {
      "image/png": "[encoded data removed]",
      "text/plain": [
       "<matplotlib.figure.Figure at 0x108027b70>"
      ]
     },
     "metadata": {},
     "output_type": "display_data"
    },
    {
     "data": {
      "text/plain": [
       "(array([-0.02718357]), array([-0.005319]), 0.06023499999999999)"
      ]
     },
     "execution_count": 37,
     "metadata": {},
     "output_type": "execute_result"
    }
   ],
   "source": [
    "def make_prediction(y_slice, y_target, plot=False):\n",
    "    slice_size = len(y_slice)\n",
    "    x_target = slice_size + 1\n",
    "    X_train = [[x + 1] for x in range(slice_size)]\n",
    "    regr = LinearRegression()\n",
    "    regr.fit(X_train, y_slice)\n",
    "    coef = regr.coef_\n",
    "    intercept = regr.intercept_\n",
    "    if plot:\n",
    "        plt.scatter(X_train, y_slice,  color='black')\n",
    "        X_plot = [[x + 1] for x in range(slice_size + 1)]\n",
    "        plt.plot(X_plot, regr.predict(X_plot), color='blue', linewidth=3)\n",
    "        plt.scatter([x_target], [y_target],  color='red')\n",
    "        plt.xticks(())\n",
    "        plt.yticks(())\n",
    "        plt.show()\n",
    "    \n",
    "    return (y_target - regr.predict(x_target), coef, intercept)\n",
    "\n",
    "slice = [0.054916, 0.049597]\n",
    "target = [0.017094433359300037]\n",
    "make_prediction(slice, target, True)"
   ]
  },
  {
   "cell_type": "code",
   "execution_count": 41,
   "metadata": {
    "collapsed": false
   },
   "outputs": [
    {
     "data": {
      "image/png": "[encoded data removed]",
      "text/plain": [
       "<matplotlib.figure.Figure at 0x1081b57b8>"
      ]
     },
     "metadata": {},
     "output_type": "display_data"
    },
    {
     "data": {
      "text/plain": [
       "(array([-0.02452407]), array([-0.005319]), 0.057575499999999988)"
      ]
     },
     "execution_count": 41,
     "metadata": {},
     "output_type": "execute_result"
    }
   ],
   "source": [
    "def make_prediction_normalized(y_slice, y_target, plot=False):\n",
    "    slice_size = len(y_slice)\n",
    "    x_target = slice_size + 1\n",
    "    slice_sd = np.std(y_slice) # normalization\n",
    "    y_slice = [x - slice_sd for x in y_slice] # normalization\n",
    "    X_train = [[x + 1] for x in range(slice_size)]\n",
    "    regr = LinearRegression()\n",
    "    regr.fit(X_train, y_slice)\n",
    "    coef = regr.coef_\n",
    "    intercept = regr.intercept_\n",
    "    if plot:\n",
    "        plt.scatter(X_train, y_slice,  color='black')\n",
    "        X_plot = [[x + 1] for x in range(slice_size + 1)]\n",
    "        plt.plot(X_plot, regr.predict(X_plot), color='blue', linewidth=3)\n",
    "        plt.scatter([x_target], [y_target],  color='red')\n",
    "        plt.xticks(())\n",
    "        plt.yticks(())\n",
    "        plt.show()\n",
    "    \n",
    "    return (regr.predict(x_target), coef, intercept)\n",
    "\n",
    "slice = [0.054916, 0.049597]\n",
    "target = [0.017094433359300037]\n",
    "make_prediction_normalized(slice, target, True)"
   ]
  },
  {
   "cell_type": "code",
   "execution_count": 55,
   "metadata": {
    "collapsed": true
   },
   "outputs": [],
   "source": [
    "def money_making(log_return_values, window_size=2, invest_threshold=0.0, pred_type='usual'):\n",
    "    actions = []\n",
    "    log_earnings = 0\n",
    "    for index, value in enumerate(log_return_values):\n",
    "        if index >= window_size:\n",
    "            temp = log_return_values[:index]\n",
    "            slice = temp[-window_size:]\n",
    "            target = value\n",
    "            last_close = slice.values[-1]\n",
    "            if pred_type == 'usual':\n",
    "                close_pred, coeff, intercept = make_prediction(slice, target)\n",
    "            elif pred_type == 'normalized':\n",
    "                close_pred, coeff, intercept = make_prediction_normalized(slice, target)\n",
    "            if close_pred - last_close > invest_threshold:\n",
    "                money = target - last_close\n",
    "                log_earnings += money\n",
    "                if target > last_close:\n",
    "                    actions.append('win')\n",
    "                else:\n",
    "                    actions.append('lose')\n",
    "            else:\n",
    "                if target > last_close:\n",
    "                    actions.append('would have won')\n",
    "                else:\n",
    "                    actions.append('would have lost')\n",
    "    return (Counter(actions), log_earnings)"
   ]
  },
  {
   "cell_type": "code",
   "execution_count": 71,
   "metadata": {
    "collapsed": false
   },
   "outputs": [],
   "source": [
    "def tactical_test(pred_type, upper_bound, invest_threshold, display=False):\n",
    "    earnings_trace = []\n",
    "    bar = pyprind.ProgBar(upper_bound - 2)\n",
    "    for window_size in range(2, upper_bound):\n",
    "        values = stock_log\n",
    "        actions, log_earnings = money_making(values, window_size=window_size, invest_threshold=invest_threshold, pred_type=pred_type)\n",
    "        try:\n",
    "            earnings_trace.append(log_earnings)\n",
    "            if display:\n",
    "                print('Our results on CLOSE VALUES ({}):\\n\\tActions: {}\\n\\tLog earnings: {}'.format(window_size, actions, log_earnings))\n",
    "        except TypeError:\n",
    "            earnings_trace.append(0)\n",
    "            if display:\n",
    "                print('Our results on CLOSE VALUES ({}):\\n\\tActions: {}\\n\\tLog earnings: {}'.format(window_size, actions, 0))\n",
    "        bar.update()\n",
    "    return earnings_trace"
   ]
  },
  {
   "cell_type": "code",
   "execution_count": 72,
   "metadata": {
    "collapsed": false
   },
   "outputs": [
    {
     "name": "stderr",
     "output_type": "stream",
     "text": [
      "0%                         100%\n",
      "[#############################] | ETA: 00:00:00\n",
      "Total time elapsed: 00:01:23\n"
     ]
    },
    {
     "data": {
      "text/plain": [
       "[<matplotlib.lines.Line2D at 0x108a3ab38>]"
      ]
     },
     "execution_count": 72,
     "metadata": {},
     "output_type": "execute_result"
    },
    {
     "data": {
      "image/png": "[encoded data removed]",
      "text/plain": [
       "<matplotlib.figure.Figure at 0x108ae9ba8>"
      ]
     },
     "metadata": {},
     "output_type": "display_data"
    }
   ],
   "source": [
    "pred_type = 'usual'\n",
    "upper_bound = 31\n",
    "invest_threshold = 0.001\n",
    "\n",
    "earnings_trace = tactical_test(pred_type, upper_bound, invest_threshold)\n",
    "\n",
    "plt.xlabel('Window size')\n",
    "plt.ylabel('Earning (log)')\n",
    "plt.title('Our earnings (log) - {}'.format(pred_type))\n",
    "plt.plot(range(2, upper_bound), earnings_trace)"
   ]
  },
  {
   "cell_type": "code",
   "execution_count": 73,
   "metadata": {
    "collapsed": false
   },
   "outputs": [
    {
     "name": "stderr",
     "output_type": "stream",
     "text": [
      "0%                         100%\n",
      "[#############################] | ETA: 00:00:00\n",
      "Total time elapsed: 00:01:52\n"
     ]
    },
    {
     "data": {
      "text/plain": [
       "[<matplotlib.lines.Line2D at 0x108ae9c18>]"
      ]
     },
     "execution_count": 73,
     "metadata": {},
     "output_type": "execute_result"
    },
    {
     "data": {
      "image/png": "[encoded data removed]",
      "text/plain": [
       "<matplotlib.figure.Figure at 0x108c0c7f0>"
      ]
     },
     "metadata": {},
     "output_type": "display_data"
    }
   ],
   "source": [
    "pred_type = 'normalized'\n",
    "upper_bound = 31\n",
    "invest_threshold = 0.001\n",
    "\n",
    "earnings_trace = tactical_test(pred_type, upper_bound, invest_threshold)\n",
    "\n",
    "plt.xlabel('Window size')\n",
    "plt.ylabel('Earning (log)')\n",
    "plt.title('Our earnings (log) - {}'.format(pred_type))\n",
    "plt.plot(range(2, upper_bound), earnings_trace)"
   ]
  },
  {
   "cell_type": "markdown",
   "metadata": {
    "collapsed": false
   },
   "source": [
    "* Draw the cumulative P&L (forecast × realized) graphs and see if they drift up."
   ]
  },
  {
   "cell_type": "code",
   "execution_count": 123,
   "metadata": {
    "collapsed": true
   },
   "outputs": [],
   "source": [
    "def create_pnl_demeaned(df, column_name):\n",
    "    pnls = []\n",
    "    for index, row in df.iterrows(): \n",
    "        if index > 0:\n",
    "            if index % 1000 == 0:\n",
    "                print(index, '...')\n",
    "            pnl_value = row[column_name] - previous_row[column_name]\n",
    "            pnls.append(pnl_value)\n",
    "            df.set_value(index, 'pnl_demeaned', pnl_value)\n",
    "        previous_row = row\n",
    "    df.drop(0, inplace=True)  # remove first day which has no pnl value\n",
    "    pnl_mean = np.mean(pnls)\n",
    "    df['pnl_demeaned'] = df['pnl_demeaned'].map(lambda x: (x - pnl_mean))\n",
    "    return df\n"
   ]
  },
  {
   "cell_type": "code",
   "execution_count": 124,
   "metadata": {
    "collapsed": false
   },
   "outputs": [],
   "source": [
    "pnl_df = data_df[['Date', 'Close']]"
   ]
  },
  {
   "cell_type": "code",
   "execution_count": 125,
   "metadata": {
    "collapsed": false
   },
   "outputs": [
    {
     "name": "stderr",
     "output_type": "stream",
     "text": [
      "/usr/local/lib/python3.5/site-packages/pandas/core/indexing.py:288: SettingWithCopyWarning: \n",
      "A value is trying to be set on a copy of a slice from a DataFrame.\n",
      "Try using .loc[row_indexer,col_indexer] = value instead\n",
      "\n",
      "See the caveats in the documentation: http://pandas.pydata.org/pandas-docs/stable/indexing.html#indexing-view-versus-copy\n",
      "  self.obj[key] = _infer_fill_value(value)\n",
      "/usr/local/lib/python3.5/site-packages/pandas/core/indexing.py:465: SettingWithCopyWarning: \n",
      "A value is trying to be set on a copy of a slice from a DataFrame.\n",
      "Try using .loc[row_indexer,col_indexer] = value instead\n",
      "\n",
      "See the caveats in the documentation: http://pandas.pydata.org/pandas-docs/stable/indexing.html#indexing-view-versus-copy\n",
      "  self.obj[item] = s\n"
     ]
    },
    {
     "name": "stdout",
     "output_type": "stream",
     "text": [
      "1000 ...\n",
      "2000 ...\n",
      "3000 ...\n",
      "4000 ...\n"
     ]
    },
    {
     "name": "stderr",
     "output_type": "stream",
     "text": [
      "/usr/local/lib/python3.5/site-packages/ipykernel/__main__.py:11: SettingWithCopyWarning: \n",
      "A value is trying to be set on a copy of a slice from a DataFrame\n",
      "\n",
      "See the caveats in the documentation: http://pandas.pydata.org/pandas-docs/stable/indexing.html#indexing-view-versus-copy\n",
      "/usr/local/lib/python3.5/site-packages/ipykernel/__main__.py:13: SettingWithCopyWarning: \n",
      "A value is trying to be set on a copy of a slice from a DataFrame.\n",
      "Try using .loc[row_indexer,col_indexer] = value instead\n",
      "\n",
      "See the caveats in the documentation: http://pandas.pydata.org/pandas-docs/stable/indexing.html#indexing-view-versus-copy\n"
     ]
    }
   ],
   "source": [
    "pnl_df = create_pnl_demeaned(pnl_df, 'Close')"
   ]
  },
  {
   "cell_type": "code",
   "execution_count": 126,
   "metadata": {
    "collapsed": false
   },
   "outputs": [
    {
     "data": {
      "text/html": [
       "<div>\n",
       "<table border=\"1\" class=\"dataframe\">\n",
       "  <thead>\n",
       "    <tr style=\"text-align: right;\">\n",
       "      <th></th>\n",
       "      <th>Date</th>\n",
       "      <th>Close</th>\n",
       "      <th>pnl_demeaned</th>\n",
       "    </tr>\n",
       "  </thead>\n",
       "  <tbody>\n",
       "    <tr>\n",
       "      <th>1</th>\n",
       "      <td>2000-01-04</td>\n",
       "      <td>124.0</td>\n",
       "      <td>-6.972901</td>\n",
       "    </tr>\n",
       "    <tr>\n",
       "      <th>2</th>\n",
       "      <td>2000-01-05</td>\n",
       "      <td>118.0</td>\n",
       "      <td>-5.972901</td>\n",
       "    </tr>\n",
       "    <tr>\n",
       "      <th>3</th>\n",
       "      <td>2000-01-06</td>\n",
       "      <td>116.0</td>\n",
       "      <td>-1.972901</td>\n",
       "    </tr>\n",
       "    <tr>\n",
       "      <th>4</th>\n",
       "      <td>2000-01-07</td>\n",
       "      <td>119.5</td>\n",
       "      <td>3.527099</td>\n",
       "    </tr>\n",
       "    <tr>\n",
       "      <th>5</th>\n",
       "      <td>2000-01-10</td>\n",
       "      <td>121.7</td>\n",
       "      <td>2.227099</td>\n",
       "    </tr>\n",
       "  </tbody>\n",
       "</table>\n",
       "</div>"
      ],
      "text/plain": [
       "         Date  Close  pnl_demeaned\n",
       "1  2000-01-04  124.0     -6.972901\n",
       "2  2000-01-05  118.0     -5.972901\n",
       "3  2000-01-06  116.0     -1.972901\n",
       "4  2000-01-07  119.5      3.527099\n",
       "5  2000-01-10  121.7      2.227099"
      ]
     },
     "execution_count": 126,
     "metadata": {},
     "output_type": "execute_result"
    }
   ],
   "source": [
    "pnl_df.head()"
   ]
  },
  {
   "cell_type": "code",
   "execution_count": 128,
   "metadata": {
    "collapsed": false
   },
   "outputs": [
    {
     "data": {
      "text/plain": [
       "[<matplotlib.lines.Line2D at 0x108744f98>]"
      ]
     },
     "execution_count": 128,
     "metadata": {},
     "output_type": "execute_result"
    },
    {
     "data": {
      "image/png": "[encoded data removed]",
      "text/plain": [
       "<matplotlib.figure.Figure at 0x108b39be0>"
      ]
     },
     "metadata": {},
     "output_type": "display_data"
    }
   ],
   "source": [
    "plt.plot(range(len(pnl_df['pnl_demeaned'])), pnl_df['pnl_demeaned'])"
   ]
  },
  {
   "cell_type": "code",
   "execution_count": 127,
   "metadata": {
    "collapsed": false
   },
   "outputs": [
    {
     "data": {
      "text/plain": [
       "(4335, 3)"
      ]
     },
     "execution_count": 127,
     "metadata": {},
     "output_type": "execute_result"
    }
   ],
   "source": [
    "pnl_df.shape"
   ]
  },
  {
   "cell_type": "code",
   "execution_count": null,
   "metadata": {
    "collapsed": true
   },
   "outputs": [],
   "source": []
  }
 ],
 "metadata": {
  "kernelspec": {
   "display_name": "Python 3",
   "language": "python",
   "name": "python3"
  },
  "language_info": {
   "codemirror_mode": {
    "name": "ipython",
    "version": 3
   },
   "file_extension": ".py",
   "mimetype": "text/x-python",
   "name": "python",
   "nbconvert_exporter": "python",
   "pygments_lexer": "ipython3",
   "version": "3.5.2"
  }
 },
 "nbformat": 4,
 "nbformat_minor": 1
}
