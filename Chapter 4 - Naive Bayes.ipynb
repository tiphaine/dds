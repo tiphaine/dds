{
 "cells": [
  {
   "cell_type": "code",
   "execution_count": 194,
   "metadata": {
    "collapsed": false
   },
   "outputs": [],
   "source": [
    "%matplotlib inline\n",
    "\n",
    "import numpy as np\n",
    "import re\n",
    "import string\n",
    "\n",
    "from collections import Counter, defaultdict\n",
    "from math import log\n",
    "from nltk.corpus import stopwords\n",
    "from operator import itemgetter"
   ]
  },
  {
   "cell_type": "markdown",
   "metadata": {},
   "source": [
    "# Obtain data to classify\n",
    "\n",
    "We will be using the 20 newsgroup dataset from sklear.datasets."
   ]
  },
  {
   "cell_type": "code",
   "execution_count": 6,
   "metadata": {
    "collapsed": false
   },
   "outputs": [],
   "source": [
    "from sklearn.datasets import fetch_20newsgroups\n",
    "\n",
    "categories = ['sci.crypt',\n",
    " 'sci.electronics',\n",
    " 'sci.med',\n",
    " 'sci.space']\n",
    "\n",
    "newsgroups_train = fetch_20newsgroups(categories=categories, shuffle=True, random_state=12)  # available subset are: train, test, all (default: train)\n",
    "newsgroups_test = fetch_20newsgroups(subset='test', categories=categories, shuffle=True, random_state=12)"
   ]
  },
  {
   "cell_type": "markdown",
   "metadata": {},
   "source": [
    "# Our own Naive Bayes implementation"
   ]
  },
  {
   "cell_type": "markdown",
   "metadata": {},
   "source": [
    "- Count number of documents per class\n",
    "- Get vocabulary for each class\n",
    "- Get count for each word in vocabulary\n",
    "- Compute : (θjc= njc+α−1 / nc +α+β−2) and (θc = nc / n) where njc is the number of documents of class c containing the jth word, nc is the number of documents of class c, n is the total number of documents, and the user-selected hyperparameters α and β are pseudocounts that “smooth” the parameter estimates"
   ]
  },
  {
   "cell_type": "code",
   "execution_count": 7,
   "metadata": {
    "collapsed": false
   },
   "outputs": [
    {
     "data": {
      "text/plain": [
       "dict_keys(['description', 'DESCR', 'target', 'filenames', 'target_names', 'data'])"
      ]
     },
     "execution_count": 7,
     "metadata": {},
     "output_type": "execute_result"
    }
   ],
   "source": [
    "newsgroups_train.keys()"
   ]
  },
  {
   "cell_type": "code",
   "execution_count": 58,
   "metadata": {
    "collapsed": false
   },
   "outputs": [
    {
     "name": "stdout",
     "output_type": "stream",
     "text": [
      "sci.crypt       : 595\n",
      "sci.electronics : 591\n",
      "sci.med         : 594\n",
      "sci.space       : 593\n",
      "total_articles  : 2373\n"
     ]
    }
   ],
   "source": [
    "total_articles = 0\n",
    "articles_counter = Counter(newsgroups_train.target)\n",
    "for key, count in articles_counter.items():\n",
    "    print('{:15} : {}'.format(newsgroups_train.target_names[key], count))\n",
    "    total_articles += count\n",
    "print('{:15} : {}'.format('total_articles', total_articles))"
   ]
  },
  {
   "cell_type": "code",
   "execution_count": 9,
   "metadata": {
    "collapsed": false
   },
   "outputs": [],
   "source": [
    "def separate_by_class(data_vector, target_vector):\n",
    "    articles_by_class = defaultdict(list)\n",
    "    for article, target_class in zip(data_vector, target_vector):\n",
    "        articles_by_class[target_class].append(article)\n",
    "    return articles_by_class\n",
    "        \n",
    "articles_by_class = separate_by_class(newsgroups_train.data, newsgroups_train.target)"
   ]
  },
  {
   "cell_type": "code",
   "execution_count": 52,
   "metadata": {
    "collapsed": false
   },
   "outputs": [],
   "source": [
    "regex = re.compile('[%s]' % re.escape(string.punctuation))\n",
    "\n",
    "def vocabulary_by_class(articles_by_class, min_df, stopwords='english'):\n",
    "    vocabulary_by_class = defaultdict(list)\n",
    "    for article_class, articles in articles_by_class.items():\n",
    "        for article in articles:\n",
    "            article = regex.sub(' ', article)  # removing pucntuation\n",
    "            article_tokens = [x.lower() for x in article.split() if not x.isdigit()]  # lowercase everything and remove digits\n",
    "            vocabulary_by_class[article_class].extend(article_tokens)\n",
    "    count_voc_by_class =  {k: Counter(v) for k, v in vocabulary_by_class.items()}\n",
    "    count_voc_by_class =  _clean(count_voc_by_class, min_df, stopwords)\n",
    "    return count_voc_by_class\n",
    "\n",
    "def _clean(count_voc_by_class, min_df, language='english'):\n",
    "    '''Remove stop words, words appearing less than min_df times.'''\n",
    "    stops = set(stopwords.words(language))\n",
    "    cleaned_vocabulary = {}\n",
    "    for article_class, counter_vocabulary in count_voc_by_class.items():\n",
    "        cleaned_vocabulary[article_class] = {}\n",
    "        for word, count in counter_vocabulary.items():\n",
    "            if (word not in stops) and (count >= min_df):\n",
    "                cleaned_vocabulary[article_class][word] = count\n",
    "    return cleaned_vocabulary\n",
    "                \n",
    "min_df = 10\n",
    "word_count_by_class = vocabulary_by_class(articles_by_class, min_df)\n",
    "            "
   ]
  },
  {
   "cell_type": "code",
   "execution_count": 195,
   "metadata": {
    "collapsed": false
   },
   "outputs": [],
   "source": [
    "# word_count_by_class"
   ]
  },
  {
   "cell_type": "code",
   "execution_count": 114,
   "metadata": {
    "collapsed": true
   },
   "outputs": [],
   "source": [
    "def compute_nb(word, word_count_by_class, article_class, total_articles, alpha=2, beta=1):\n",
    "    '''Compute : (θjc= njc+α−1 / nc +α+β−2) and (θc = nc / n) where njc is the number of documents of class c \n",
    "    containing the jth word, nc is the number of documents of class c, n is the total number of documents, and \n",
    "    the user-selected hyperparameters α and β are pseudocounts that “smooth” the parameter estimates.'''\n",
    "    njc = word_count_by_class[article_class].get(word, 0)\n",
    "    nc = articles_counter[article_class]\n",
    "    theta_jc = (njc + alpha - 1) / (nc + alpha + beta - 2)\n",
    "    theta_c = nc / total_articles\n",
    "    return theta_jc, theta_c\n",
    "    "
   ]
  },
  {
   "cell_type": "markdown",
   "metadata": {},
   "source": [
    "Test:"
   ]
  },
  {
   "cell_type": "code",
   "execution_count": 115,
   "metadata": {
    "collapsed": false
   },
   "outputs": [
    {
     "name": "stdout",
     "output_type": "stream",
     "text": [
      "BOSTON\n",
      "theta_jc: 0.047058823529411764\n",
      "theta_c: 0.2503160556257901\n"
     ]
    }
   ],
   "source": [
    "word = 'boston'\n",
    "alpha = 1\n",
    "beta = 2\n",
    "\n",
    "theta_j0, theta_0 = compute_nb(word, word_count_by_class, 0, total_articles, alpha, beta)\n",
    "theta_jc, theta_c = compute_nb(word, word_count_by_class, 2, total_articles, alpha, beta)\n",
    "print('{}\\ntheta_jc: {}\\ntheta_c: {}'.format(word.upper(), theta_jc, theta_c))"
   ]
  },
  {
   "cell_type": "markdown",
   "metadata": {},
   "source": [
    "Compute:\n",
    "\n",
    "* log (py=c|x /py=0|x j) =∑w_jc * x_j+ w_0c \n",
    "\n",
    "where\n",
    "\n",
    "* wjc=log (θ_jc * (1−θ_j0) / θ_j0* (1−θ_jc))\n",
    "* w0c=∑_j log ((1−θ_jc) / (1−θ_j0)) + log (θc / θ0) "
   ]
  },
  {
   "cell_type": "code",
   "execution_count": null,
   "metadata": {
    "collapsed": true
   },
   "outputs": [],
   "source": [
    "def predict(article, word_count_by_class, alpha=2, beta=1, preds=False):\n",
    "    predictions = {}\n",
    "    words = clean(article)\n",
    "    sigma_wjc = 0\n",
    "    for article_class in sorted(list(set(newsgroups_train.target))):\n",
    "        for word in words:\n",
    "            try:\n",
    "                wjc = compute_wjc(word, word_count_by_class, article_class, total_articles, alpha, beta)\n",
    "                sigma_wjc += wjc\n",
    "            except ValueError:\n",
    "                pass\n",
    "        w0c = compute_w0c(words, word_count_by_class, article_class, total_articles, alpha, beta)\n",
    "        prediction = sigma_wjc + w0c\n",
    "        predictions[article_class] = prediction\n",
    "    if preds:\n",
    "        return predictions\n",
    "    else:\n",
    "        return max(predictions.items(),key=itemgetter(1))[0] \n",
    "        \n",
    "def clean(article, language='english'):\n",
    "    words = []\n",
    "    article = regex.sub(' ', article)  # removing pucntuation\n",
    "    article_tokens = [x.lower() for x in article.split() if not x.isdigit()] # removing digits\n",
    "    stops = set(stopwords.words(language))\n",
    "    for word in article_tokens:\n",
    "        if word not in stops:\n",
    "            words.append(word)\n",
    "    return words\n",
    "\n",
    "def compute_wjc(word, word_count_by_class, article_class, total_articles, alpha, beta):\n",
    "    theta_jc, theta_c = compute_nb(word, word_count_by_class, article_class, total_articles, alpha, beta)\n",
    "    theta_j0, theta_0 = compute_nb(word, word_count_by_class, 0, total_articles, alpha, beta)\n",
    "    # print(word, theta_jc, theta_c, theta_j0, theta_0)\n",
    "    wjc = log((theta_jc * (1 - theta_j0)) / (theta_j0 * ( 1 - theta_jc)))\n",
    "    return wjc\n",
    "    \n",
    "def compute_w0c(words, word_count_by_class, article_class, total_articles, alpha, beta):\n",
    "    sigma_j = 0\n",
    "    for word in words:\n",
    "        try:\n",
    "            theta_jc, theta_c = compute_nb(word, word_count_by_class, article_class, total_articles, alpha, beta)\n",
    "            theta_j0, theta_0 = compute_nb(word, word_count_by_class, 0, total_articles, alpha, beta)\n",
    "            sigma_j += log ((1.0 - theta_jc) / ( 1.0 - theta_j0))\n",
    "        except ValueError:\n",
    "            pass\n",
    "    w0c = sigma_j + log(theta_c / theta_0)\n",
    "    return w0c\n",
    "        \n",
    "    "
   ]
  },
  {
   "cell_type": "code",
   "execution_count": null,
   "metadata": {
    "collapsed": true
   },
   "outputs": [],
   "source": [
    "def accuracy_score(targets, preds):\n",
    "    correct = 0\n",
    "    if len(targets) != len(preds):\n",
    "        raise ValueError\n",
    "    else:\n",
    "        for target, pred in zip(targets, preds):\n",
    "            if target == pred:\n",
    "                correct += 1\n",
    "    return correct / float(len(targets))\n",
    "        "
   ]
  },
  {
   "cell_type": "code",
   "execution_count": null,
   "metadata": {
    "collapsed": false
   },
   "outputs": [],
   "source": [
    "predictions = []\n",
    "targets = []\n",
    "\n",
    "for index in range(0, len(newsgroups_test.data)):\n",
    "    article = newsgroups_test.data[index]\n",
    "    target = newsgroups_test.target[index]\n",
    "    targets.append(target)\n",
    "    prediction = predict(article, word_count_by_class)\n",
    "    predictions.append(prediction)\n",
    "    \n",
    "accuracy_score = accuracy_score(targets, predictions)\n",
    "\n",
    "print('Accuracy score: {}'.format(accuracy_score))"
   ]
  },
  {
   "cell_type": "markdown",
   "metadata": {},
   "source": [
    "# Naive bayes using sklearn"
   ]
  },
  {
   "cell_type": "code",
   "execution_count": 164,
   "metadata": {
    "collapsed": false
   },
   "outputs": [
    {
     "name": "stderr",
     "output_type": "stream",
     "text": [
      "/usr/local/lib/python3.5/site-packages/matplotlib/font_manager.py:273: UserWarning: Matplotlib is building the font cache using fc-list. This may take a moment.\n",
      "  warnings.warn('Matplotlib is building the font cache using fc-list. This may take a moment.')\n",
      "/usr/local/lib/python3.5/site-packages/matplotlib/font_manager.py:273: UserWarning: Matplotlib is building the font cache using fc-list. This may take a moment.\n",
      "  warnings.warn('Matplotlib is building the font cache using fc-list. This may take a moment.')\n"
     ]
    }
   ],
   "source": [
    "import matplotlib.pyplot as plt\n",
    "\n",
    "from sklearn.feature_extraction.text import CountVectorizer, TfidfVectorizer, TfidfTransformer\n",
    "from sklearn.metrics import accuracy_score, confusion_matrix\n",
    "from sklearn.naive_bayes import GaussianNB, MultinomialNB, BernoulliNB\n",
    "from sklearn.pipeline import Pipeline"
   ]
  },
  {
   "cell_type": "code",
   "execution_count": 10,
   "metadata": {
    "collapsed": false
   },
   "outputs": [
    {
     "data": {
      "text/plain": [
       "['sci.crypt', 'sci.electronics', 'sci.med', 'sci.space']"
      ]
     },
     "execution_count": 10,
     "metadata": {},
     "output_type": "execute_result"
    }
   ],
   "source": [
    "newsgroups_train.target_names"
   ]
  },
  {
   "cell_type": "code",
   "execution_count": 11,
   "metadata": {
    "collapsed": false
   },
   "outputs": [
    {
     "data": {
      "text/plain": [
       "Counter({0: 595, 1: 591, 2: 594, 3: 593})"
      ]
     },
     "execution_count": 11,
     "metadata": {},
     "output_type": "execute_result"
    }
   ],
   "source": [
    "Counter(newsgroups_train.target)"
   ]
  },
  {
   "cell_type": "code",
   "execution_count": 167,
   "metadata": {
    "collapsed": false
   },
   "outputs": [],
   "source": [
    "min_df = 1\n",
    "count = CountVectorizer(stop_words='english', min_df=min_df)"
   ]
  },
  {
   "cell_type": "code",
   "execution_count": 168,
   "metadata": {
    "collapsed": false
   },
   "outputs": [],
   "source": [
    "train_counts = count.fit_transform(newsgroups_train.data).toarray()\n",
    "train_vocabulary = count.vocabulary_"
   ]
  },
  {
   "cell_type": "code",
   "execution_count": 169,
   "metadata": {
    "collapsed": false
   },
   "outputs": [],
   "source": [
    "test_vectorizer = CountVectorizer(stop_words='english', vocabulary=train_vocabulary)\n",
    "test_counts = test_vectorizer.fit_transform(newsgroups_test.data).toarray()"
   ]
  },
  {
   "cell_type": "code",
   "execution_count": 189,
   "metadata": {
    "collapsed": true
   },
   "outputs": [],
   "source": [
    "def plot_confusion_matrix(cm, title='Confusion matrix', cmap=plt.cm.Blues):\n",
    "    plt.imshow(cm, interpolation='nearest', cmap=cmap)\n",
    "    plt.title(title)\n",
    "    plt.colorbar()\n",
    "    plt.tight_layout()\n",
    "    tick_marks = np.arange(len(newsgroups_test.target_names))\n",
    "    plt.xticks(tick_marks, newsgroups_test.target_names, rotation=45)\n",
    "    plt.yticks(tick_marks, newsgroups_test.target_names)\n",
    "    plt.ylabel('True label')\n",
    "    plt.xlabel('Predicted label')"
   ]
  },
  {
   "cell_type": "markdown",
   "metadata": {
    "collapsed": false
   },
   "source": [
    "### Gaussian NB\n",
    "The likelihood of the features is assumed to be Gaussian. Mean and variance are estimated using maximum likelyhood."
   ]
  },
  {
   "cell_type": "code",
   "execution_count": 190,
   "metadata": {
    "collapsed": false
   },
   "outputs": [
    {
     "data": {
      "text/plain": [
       "0.85053831538948699"
      ]
     },
     "execution_count": 190,
     "metadata": {},
     "output_type": "execute_result"
    }
   ],
   "source": [
    "clf_gaussian = GaussianNB()\n",
    "clf_gaussian.fit(train_counts, newsgroups_train.target)\n",
    "accuracy_score(newsgroups_test.target, clf_gaussian.predict(test_counts))"
   ]
  },
  {
   "cell_type": "code",
   "execution_count": 191,
   "metadata": {
    "collapsed": false
   },
   "outputs": [
    {
     "name": "stdout",
     "output_type": "stream",
     "text": [
      "Confusion matrix, without normalization\n"
     ]
    },
    {
     "data": {
      "image/png": "[encoded data removed]",
      "text/plain": [
       "<matplotlib.figure.Figure at 0x12eb25550>"
      ]
     },
     "metadata": {},
     "output_type": "display_data"
    }
   ],
   "source": [
    "cm = confusion_matrix(newsgroups_test.target, clf_gaussian.predict(test_counts))\n",
    "np.set_printoptions(precision=2)\n",
    "print('Confusion matrix, without normalization')\n",
    "plt.figure()\n",
    "plot_confusion_matrix(cm)"
   ]
  },
  {
   "cell_type": "markdown",
   "metadata": {},
   "source": [
    "### Multinomial NB\n",
    "\n",
    "Algorithm for multinomially distributed data, and is one of the two classic naive Bayes variants used in text classification (where the data are typically represented as word vector counts, although tf-idf vectors are also known to work well in practice).\n"
   ]
  },
  {
   "cell_type": "code",
   "execution_count": 171,
   "metadata": {
    "collapsed": false
   },
   "outputs": [
    {
     "data": {
      "text/plain": [
       "0.94173527549081693"
      ]
     },
     "execution_count": 171,
     "metadata": {},
     "output_type": "execute_result"
    }
   ],
   "source": [
    "clf_multinomial = MultinomialNB()\n",
    "clf_multinomial.fit(train_counts, newsgroups_train.target)\n",
    "accuracy_score(newsgroups_test.target, clf_multinomial.predict(test_counts))"
   ]
  },
  {
   "cell_type": "markdown",
   "metadata": {},
   "source": [
    "### Bernoulli NB\n",
    "\n",
    "For data that is distributed according to multivariate Bernoulli distributions; i.e., there may be multiple features but each one is assumed to be a binary-valued (Bernoulli, boolean) variable. Therefore, this class requires samples to be represented as binary-valued feature vectors. \n",
    "\n",
    "It explicitly penalizes the non-occurrence of a feature i that is an indicator for class y, where the multinomial variant would simply ignore a non-occurring feature.\n",
    "In the case of text classification, word occurrence vectors (rather than word count vectors) may be used to train and use this classifier. BernoulliNB might perform better on some datasets, especially those with shorter documents. It is advisable to evaluate both models, if time permits.\n",
    "\n",
    "* Using count vectorizer"
   ]
  },
  {
   "cell_type": "code",
   "execution_count": 26,
   "metadata": {
    "collapsed": false
   },
   "outputs": [
    {
     "data": {
      "text/plain": [
       "0.77327422419252689"
      ]
     },
     "execution_count": 26,
     "metadata": {},
     "output_type": "execute_result"
    }
   ],
   "source": [
    "clf_bernoulli = BernoulliNB()\n",
    "clf_bernoulli.fit(train_counts, newsgroups_train.target)\n",
    "accuracy_score(newsgroups_test.target, clf_bernoulli.predict(test_counts))"
   ]
  },
  {
   "cell_type": "code",
   "execution_count": 192,
   "metadata": {
    "collapsed": false
   },
   "outputs": [
    {
     "name": "stdout",
     "output_type": "stream",
     "text": [
      "Confusion matrix, without normalization\n"
     ]
    },
    {
     "data": {
      "image/png": "[encoded data removed]",
      "text/plain": [
       "<matplotlib.figure.Figure at 0x121910278>"
      ]
     },
     "metadata": {},
     "output_type": "display_data"
    }
   ],
   "source": [
    "cm = confusion_matrix(newsgroups_test.target, clf_multinomial.predict(test_counts))\n",
    "np.set_printoptions(precision=2)\n",
    "print('Confusion matrix, without normalization')\n",
    "plt.figure()\n",
    "plot_confusion_matrix(cm)"
   ]
  },
  {
   "cell_type": "markdown",
   "metadata": {},
   "source": [
    "* Using presence vectorizer (tfidf)"
   ]
  },
  {
   "cell_type": "code",
   "execution_count": 181,
   "metadata": {
    "collapsed": false
   },
   "outputs": [],
   "source": [
    "min_df = 1\n",
    "tfidf_vectorizer = TfidfVectorizer(stop_words='english', min_df=min_df)\n",
    "train_tfidf = tfidf_vectorizer.fit_transform(newsgroups_train.data).toarray()\n",
    "test_tfidf = tfidf_vectorizer.transform(newsgroups_test.data).toarray()"
   ]
  },
  {
   "cell_type": "code",
   "execution_count": 182,
   "metadata": {
    "collapsed": false
   },
   "outputs": [
    {
     "data": {
      "text/plain": [
       "0.77327422419252689"
      ]
     },
     "execution_count": 182,
     "metadata": {},
     "output_type": "execute_result"
    }
   ],
   "source": [
    "clf_bernoulli = BernoulliNB()\n",
    "clf_bernoulli.fit(train_tfidf, newsgroups_train.target)\n",
    "accuracy_score(newsgroups_test.target, clf_bernoulli.predict(test_tfidf))"
   ]
  },
  {
   "cell_type": "code",
   "execution_count": 193,
   "metadata": {
    "collapsed": false
   },
   "outputs": [
    {
     "name": "stdout",
     "output_type": "stream",
     "text": [
      "Confusion matrix, without normalization\n"
     ]
    },
    {
     "data": {
      "image/png": "[encoded data removed]",
      "text/plain": [
       "<matplotlib.figure.Figure at 0x1204ebba8>"
      ]
     },
     "metadata": {},
     "output_type": "display_data"
    }
   ],
   "source": [
    "cm = confusion_matrix(newsgroups_test.target, clf_bernoulli.predict(test_counts))\n",
    "np.set_printoptions(precision=2)\n",
    "print('Confusion matrix, without normalization')\n",
    "plt.figure()\n",
    "plot_confusion_matrix(cm)"
   ]
  }
 ],
 "metadata": {
  "kernelspec": {
   "display_name": "Python 3",
   "language": "python",
   "name": "python3"
  },
  "language_info": {
   "codemirror_mode": {
    "name": "ipython",
    "version": 3
   },
   "file_extension": ".py",
   "mimetype": "text/x-python",
   "name": "python",
   "nbconvert_exporter": "python",
   "pygments_lexer": "ipython3",
   "version": "3.5.2"
  }
 },
 "nbformat": 4,
 "nbformat_minor": 1
}
